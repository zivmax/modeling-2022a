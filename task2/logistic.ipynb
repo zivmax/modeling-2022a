{
 "cells": [
  {
   "cell_type": "code",
   "execution_count": 12,
   "metadata": {},
   "outputs": [],
   "source": [
    "import pandas as pd\n",
    "from sklearn.model_selection import train_test_split\n",
    "from sklearn.linear_model import LogisticRegression\n",
    "from sklearn.preprocessing import StandardScaler\n",
    "from sklearn.metrics import classification_report, confusion_matrix\n",
    "import numpy as np\n",
    "\n",
    "variables_dict = {\n",
    "    0: \"bankruptcy\",\n",
    "    1: \"net profit / total assets\",\n",
    "    2: \"total liabilities / total assets\",\n",
    "    3: \"working capital / total assets\",\n",
    "    4: \"current assets / short-term liabilities\",\n",
    "    5: \"[(cash + short-term securities + receivables - short-term liabilities) / (operating expenses - depreciation)] * 365\",\n",
    "    6: \"retained earnings / total assets\",\n",
    "    7: \"EBIT / total assets\",\n",
    "    8: \"book value of equity / total liabilities\",\n",
    "    9: \"sales / total assets\",\n",
    "    10: \"equity / total assets\",\n",
    "    11: \"(gross profit + extraordinary items + financial expenses) / total assets\",\n",
    "    12: \"gross profit / short-term liabilities\",\n",
    "    13: \"(gross profit + depreciation) / sales\",\n",
    "    14: \"(gross profit + interest) / total assets\",\n",
    "    15: \"(total liabilities * 365) / (gross profit + depreciation)\",\n",
    "    16: \"(gross profit + depreciation) / total liabilities\",\n",
    "    17: \"total assets / total liabilities\",\n",
    "    18: \"gross profit / total assets\",\n",
    "    19: \"gross profit / sales\",\n",
    "    20: \"(inventory * 365) / sales\",\n",
    "    21: \"sales (n) / sales (n-1)\",\n",
    "    22: \"profit on operating activities / total assets\",\n",
    "    23: \"net profit / sales\",\n",
    "    24: \"gross profit (in 3 years) / total assets\",\n",
    "    25: \"(equity - share capital) / total assets\",\n",
    "    26: \"(net profit + depreciation) / total liabilities\",\n",
    "    27: \"profit on operating activities / financial expenses\",\n",
    "    28: \"working capital / fixed assets\",\n",
    "    29: \"logarithm of total assets\",\n",
    "    30: \"(total liabilities - cash) / sales\",\n",
    "    31: \"(gross profit + interest) / sales\",\n",
    "    32: \"(current liabilities * 365) / cost of products sold\",\n",
    "    33: \"operating expenses / short-term liabilities\",\n",
    "    34: \"operating expenses / total liabilities\",\n",
    "    35: \"profit on sales / total assets\",\n",
    "    36: \"total sales / total assets\",\n",
    "    37: \"(current assets - inventories) / long-term liabilities\",\n",
    "    38: \"constant capital / total assets\",\n",
    "    39: \"profit on sales / sales\",\n",
    "    40: \"(current assets - inventory - receivables) / short-term liabilities\",\n",
    "    41: \"total liabilities / ((profit on operating activities + depreciation) * (12/365))\",\n",
    "    42: \"profit on operating activities / sales\",\n",
    "    43: \"rotation receivables + inventory turnover in days\",\n",
    "    44: \"(receivables * 365) / sales\",\n",
    "    45: \"net profit / inventory\",\n",
    "    46: \"(current assets - inventory) / short-term liabilities\",\n",
    "    47: \"(inventory * 365) / cost of products sold\",\n",
    "    48: \"EBITDA (profit on operating activities - depreciation) / total assets\",\n",
    "    49: \"EBITDA (profit on operating activities - depreciation) / sales\",\n",
    "    50: \"current assets / total liabilities\",\n",
    "    51: \"short-term liabilities / total assets\",\n",
    "    52: \"(short-term liabilities * 365) / cost of products sold)\",\n",
    "    53: \"equity / fixed assets\",\n",
    "    54: \"constant capital / fixed assets\",\n",
    "    55: \"working capital\",\n",
    "    56: \"(sales - cost of products sold) / sales\",\n",
    "    57: \"(current assets - inventory - short-term liabilities) / (sales - gross profit - depreciation)\",\n",
    "    58: \"total costs /total sales\",\n",
    "    59: \"long-term liabilities / equity\",\n",
    "    60: \"sales / inventory\",\n",
    "    61: \"sales / receivables\",\n",
    "    62: \"(short-term liabilities *365) / sales\",\n",
    "    63: \"sales / short-term liabilities\",\n",
    "    64: \"sales / fixed asset\"\n",
    "}\n",
    "\n",
    "\n",
    "\n",
    "# Read Data\n",
    "data_files = [f\"../data/{year}.csv\" for year in range(2017, 2022)]\n",
    "data_frames = [pd.read_csv(file, na_values='?') for file in data_files]\n",
    "df = pd.concat(data_frames, ignore_index=True)\n",
    "\n"
   ]
  },
  {
   "cell_type": "code",
   "execution_count": 6,
   "metadata": {},
   "outputs": [],
   "source": [
    "\n",
    "\n",
    "# Preprocess\n",
    "# 'bankruptcy' is the target variable, others are features\n",
    "X = df.drop('class', axis=1)\n",
    "y = df['class']\n",
    "\n",
    "# Fill missing values with the mean\n",
    "X.fillna(X.mean(), inplace=True)\n",
    "\n",
    "# Split data into training and testing sets\n",
    "X_train, X_test, y_train, y_test = train_test_split(X, y, test_size=0.2, random_state=42)\n",
    "\n",
    "# Standardize the features\n",
    "scaler = StandardScaler()\n",
    "X_train_scaled = scaler.fit_transform(X_train)\n",
    "X_test_scaled = scaler.transform(X_test)\n",
    "\n"
   ]
  },
  {
   "cell_type": "code",
   "execution_count": 7,
   "metadata": {},
   "outputs": [
    {
     "data": {
      "text/html": [
       "<style>#sk-container-id-1 {color: black;}#sk-container-id-1 pre{padding: 0;}#sk-container-id-1 div.sk-toggleable {background-color: white;}#sk-container-id-1 label.sk-toggleable__label {cursor: pointer;display: block;width: 100%;margin-bottom: 0;padding: 0.3em;box-sizing: border-box;text-align: center;}#sk-container-id-1 label.sk-toggleable__label-arrow:before {content: \"▸\";float: left;margin-right: 0.25em;color: #696969;}#sk-container-id-1 label.sk-toggleable__label-arrow:hover:before {color: black;}#sk-container-id-1 div.sk-estimator:hover label.sk-toggleable__label-arrow:before {color: black;}#sk-container-id-1 div.sk-toggleable__content {max-height: 0;max-width: 0;overflow: hidden;text-align: left;background-color: #f0f8ff;}#sk-container-id-1 div.sk-toggleable__content pre {margin: 0.2em;color: black;border-radius: 0.25em;background-color: #f0f8ff;}#sk-container-id-1 input.sk-toggleable__control:checked~div.sk-toggleable__content {max-height: 200px;max-width: 100%;overflow: auto;}#sk-container-id-1 input.sk-toggleable__control:checked~label.sk-toggleable__label-arrow:before {content: \"▾\";}#sk-container-id-1 div.sk-estimator input.sk-toggleable__control:checked~label.sk-toggleable__label {background-color: #d4ebff;}#sk-container-id-1 div.sk-label input.sk-toggleable__control:checked~label.sk-toggleable__label {background-color: #d4ebff;}#sk-container-id-1 input.sk-hidden--visually {border: 0;clip: rect(1px 1px 1px 1px);clip: rect(1px, 1px, 1px, 1px);height: 1px;margin: -1px;overflow: hidden;padding: 0;position: absolute;width: 1px;}#sk-container-id-1 div.sk-estimator {font-family: monospace;background-color: #f0f8ff;border: 1px dotted black;border-radius: 0.25em;box-sizing: border-box;margin-bottom: 0.5em;}#sk-container-id-1 div.sk-estimator:hover {background-color: #d4ebff;}#sk-container-id-1 div.sk-parallel-item::after {content: \"\";width: 100%;border-bottom: 1px solid gray;flex-grow: 1;}#sk-container-id-1 div.sk-label:hover label.sk-toggleable__label {background-color: #d4ebff;}#sk-container-id-1 div.sk-serial::before {content: \"\";position: absolute;border-left: 1px solid gray;box-sizing: border-box;top: 0;bottom: 0;left: 50%;z-index: 0;}#sk-container-id-1 div.sk-serial {display: flex;flex-direction: column;align-items: center;background-color: white;padding-right: 0.2em;padding-left: 0.2em;position: relative;}#sk-container-id-1 div.sk-item {position: relative;z-index: 1;}#sk-container-id-1 div.sk-parallel {display: flex;align-items: stretch;justify-content: center;background-color: white;position: relative;}#sk-container-id-1 div.sk-item::before, #sk-container-id-1 div.sk-parallel-item::before {content: \"\";position: absolute;border-left: 1px solid gray;box-sizing: border-box;top: 0;bottom: 0;left: 50%;z-index: -1;}#sk-container-id-1 div.sk-parallel-item {display: flex;flex-direction: column;z-index: 1;position: relative;background-color: white;}#sk-container-id-1 div.sk-parallel-item:first-child::after {align-self: flex-end;width: 50%;}#sk-container-id-1 div.sk-parallel-item:last-child::after {align-self: flex-start;width: 50%;}#sk-container-id-1 div.sk-parallel-item:only-child::after {width: 0;}#sk-container-id-1 div.sk-dashed-wrapped {border: 1px dashed gray;margin: 0 0.4em 0.5em 0.4em;box-sizing: border-box;padding-bottom: 0.4em;background-color: white;}#sk-container-id-1 div.sk-label label {font-family: monospace;font-weight: bold;display: inline-block;line-height: 1.2em;}#sk-container-id-1 div.sk-label-container {text-align: center;}#sk-container-id-1 div.sk-container {/* jupyter's `normalize.less` sets `[hidden] { display: none; }` but bootstrap.min.css set `[hidden] { display: none !important; }` so we also need the `!important` here to be able to override the default hidden behavior on the sphinx rendered scikit-learn.org. See: https://github.com/scikit-learn/scikit-learn/issues/21755 */display: inline-block !important;position: relative;}#sk-container-id-1 div.sk-text-repr-fallback {display: none;}</style><div id=\"sk-container-id-1\" class=\"sk-top-container\"><div class=\"sk-text-repr-fallback\"><pre>LogisticRegression(max_iter=1000)</pre><b>In a Jupyter environment, please rerun this cell to show the HTML representation or trust the notebook. <br />On GitHub, the HTML representation is unable to render, please try loading this page with nbviewer.org.</b></div><div class=\"sk-container\" hidden><div class=\"sk-item\"><div class=\"sk-estimator sk-toggleable\"><input class=\"sk-toggleable__control sk-hidden--visually\" id=\"sk-estimator-id-1\" type=\"checkbox\" checked><label for=\"sk-estimator-id-1\" class=\"sk-toggleable__label sk-toggleable__label-arrow\">LogisticRegression</label><div class=\"sk-toggleable__content\"><pre>LogisticRegression(max_iter=1000)</pre></div></div></div></div></div>"
      ],
      "text/plain": [
       "LogisticRegression(max_iter=1000)"
      ]
     },
     "execution_count": 7,
     "metadata": {},
     "output_type": "execute_result"
    }
   ],
   "source": [
    "# Create and train the model\n",
    "model = LogisticRegression(max_iter=1000) \n",
    "model.fit(X_train_scaled, y_train)"
   ]
  },
  {
   "cell_type": "code",
   "execution_count": 8,
   "metadata": {},
   "outputs": [
    {
     "name": "stdout",
     "output_type": "stream",
     "text": [
      "Coeff: [[-7.04936188e-01  2.63584325e-01 -7.34950459e-01 -1.72863203e+00\n",
      "   2.31234104e-02  3.79520121e-02 -3.55984306e-01 -3.46731729e-04\n",
      "  -2.73950383e+00 -4.54444138e-01 -7.16850937e-01  5.24431483e-01\n",
      "  -1.55969812e-01 -3.55997081e-01  9.22577430e-03 -1.70681160e+00\n",
      "  -3.54669090e-02 -3.59807901e-01 -2.91028507e-01  1.72789732e-01\n",
      "  -3.21373162e-02 -3.53580906e-01 -2.66956445e-01 -3.69635652e-02\n",
      "   4.94546699e-01  9.94021341e-01 -5.84930760e-02 -9.55226149e-02\n",
      "  -2.14922177e-01  4.45345624e-02  5.21603453e-01  3.33921823e-01\n",
      "   1.18573746e+00  1.63960563e-01 -3.17058969e+00  7.23221017e-01\n",
      "  -1.60734574e-02 -1.30570178e+00 -7.41197452e-01  7.33553561e-01\n",
      "  -7.60029639e-01  3.04758480e-01 -2.34782243e-02 -9.12449166e-02\n",
      "   2.97879900e-03 -2.20388467e+00 -9.20369446e-02  3.73616962e+00\n",
      "   3.86930186e-02 -1.01504961e+00 -1.28903661e+00 -1.16330146e+00\n",
      "   1.41128601e-01  1.00888426e-01 -2.16734122e-01  4.11930846e-02\n",
      "  -4.84566341e-02 -8.96574930e-01 -1.45772087e-02 -3.02215061e-02\n",
      "  -3.70898304e-02 -2.55775087e-01 -1.13508783e+00 -1.24997544e-03]]\n"
     ]
    }
   ],
   "source": [
    "# Asess the model\n",
    "y_pred = model.coef_\n",
    "print(\"Coeff:\", y_pred)\n"
   ]
  },
  {
   "cell_type": "code",
   "execution_count": 9,
   "metadata": {},
   "outputs": [
    {
     "name": "stdout",
     "output_type": "stream",
     "text": [
      "MS 5 features：\n",
      "   Feature    Weight\n",
      "47     X48  3.736170\n",
      "34     X35 -3.170590\n",
      "8       X9 -2.739504\n",
      "45     X46 -2.203885\n",
      "3       X4 -1.728632\n",
      "              precision    recall  f1-score   support\n",
      "\n",
      "           0       0.95      1.00      0.97      8240\n",
      "           1       0.50      0.01      0.02       441\n",
      "\n",
      "    accuracy                           0.95      8681\n",
      "   macro avg       0.72      0.50      0.50      8681\n",
      "weighted avg       0.93      0.95      0.93      8681\n",
      "\n",
      "Confusion Matrix:\n",
      "[[8236    4]\n",
      " [ 437    4]]\n"
     ]
    }
   ],
   "source": [
    "# Get the weights of the features\n",
    "weights = model.coef_[0]\n",
    "features = X.columns\n",
    "feature_weights = pd.DataFrame({'Feature': features, 'Weight': weights})\n",
    "\n",
    "# Get the top 5 features\n",
    "top_features = feature_weights.reindex(feature_weights.Weight.abs().sort_values(ascending=False).index).head(5)\n",
    "print(\"MS 5 features：\")\n",
    "print(top_features)\n",
    "\n",
    "predictions = model.predict(X_test_scaled)\n",
    "print(classification_report(y_test, predictions))\n",
    "print(\"Confusion Matrix:\")\n",
    "print(confusion_matrix(y_test, predictions))\n"
   ]
  },
  {
   "cell_type": "code",
   "execution_count": 13,
   "metadata": {},
   "outputs": [
    {
     "name": "stdout",
     "output_type": "stream",
     "text": [
      "EBITDA (profit on operating activities - depreciation) / total assets\n",
      "profit on sales / total assets\n",
      "sales / total assets\n",
      "net profit / inventory\n",
      "(current assets - inventory) / short-term liabilities\n",
      "current assets / short-term liabilities\n"
     ]
    }
   ],
   "source": [
    "for i in [48, 35, 9, 45, 46, 4]:\n",
    "    print(variables_dict[i])"
   ]
  }
 ],
 "metadata": {
  "kernelspec": {
   "display_name": "base",
   "language": "python",
   "name": "python3"
  },
  "language_info": {
   "codemirror_mode": {
    "name": "ipython",
    "version": 3
   },
   "file_extension": ".py",
   "mimetype": "text/x-python",
   "name": "python",
   "nbconvert_exporter": "python",
   "pygments_lexer": "ipython3",
   "version": "3.10.13"
  }
 },
 "nbformat": 4,
 "nbformat_minor": 2
}
