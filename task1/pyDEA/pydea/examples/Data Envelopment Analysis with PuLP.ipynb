{
 "cells": [
  {
   "cell_type": "markdown",
   "metadata": {},
   "source": [
    "# Data envelopment analysis using PuLP\n",
    "\n",
    "DEA is most useful when a comparison is sought against \"best practices\" where the analyst doesn't\n",
    "want the frequency of poorly run operations to affect the analysis. DEA has been applied in\n",
    "many situations such as: health care (hospitals, doctors), education (schools, universities), banks,\n",
    "manufacturing, benchmarking, management evaluation, fast food restaurants, and retail stores.\n",
    "The analyzed data sets vary in size. Some analysts work on problems with as few as 15 or 20\n",
    "DMUs while others are tackling problems with over 10,000 DMUs.\n",
    "\n",
    "### [Strengths and limitations](http://mat.gsia.cmu.edu/classes/QUANT/NOTES/chap12.pdf)\n",
    "As the earlier list of applications suggests, DEA can be a powerful tool when used wisely. A few of\n",
    "the characteristics that make it powerful are:\n",
    "- DEA can handle multiple input and multiple output models.\n",
    "- It doesn't require an assumption of a functional form relating inputs to outputs.\n",
    "- DMUs are directly compared against a peer or combination of peers.\n",
    "- Inputs and outputs can have very different units. For example, X1 could be in units of lives\n",
    "saved and X2 could be in units of dollars without requiring an a priori tradeof between the\n",
    "two.\n",
    "\n",
    "The same characteristics that make DEA a powerful tool can also create problems. An analyst\n",
    "should keep these limitations in mind when choosing whether or not to use DEA.\n",
    "- Since DEA is an extreme point technique, noise (even symmetrical noise with zero mean)\n",
    "such as measurement error can cause significant problems.\n",
    "- DEA is good at estimating \"relative\" efficiency of a DMU but it converges very slowly to\n",
    "\"absolute\" efficiency. In other words, it can tell you how well you are doing compared to your\n",
    "peers but not compared to a \"theoretical maximum.\"\n",
    "- Since DEA is a nonparametric technique, statistical hypothesis tests are difficult and are the\n",
    "focus of ongoing research.\n",
    "- Since a standard formulation of DEA creates a separate linear program for each DMU, large\n",
    "problems can be computationally intensive.\n",
    "\n",
    "\n",
    "### References\n",
    "\n",
    "- [Tim Coelli's summary of productivity measurement](http://facweb.knowlton.ohio-state.edu/pviton/courses/crp394/coelli_Intro_effic.pdf)\n",
    "- [PuLP](http://www.coin-or.org/PuLP/pulp.html)\n",
    "- [Python classes docs](https://docs.python.org/2/tutorial/classes.html) and [hints for class design](http://stackoverflow.com/questions/4203163/how-do-i-design-a-class-in-python)\n",
    "- [Weight restrictions in DEA](http://www.wbs.ac.uk/downloads/working_papers/352.pdf)\n",
    "- [Overview of DEA](http://www.nhh.no/Files/Filer/institutter/for/seminars/accounting_management_science/2007_spring/300507.pdf)\n",
    "- [NZ Post example](https://secure.orsnz.org.nz/conf45/program/Papers/ORSNZ2010_Priddey.pdf)\n",
    "- [Non-discretionary inputs in healthcare](http://papers.ssrn.com/sol3/papers.cfm?abstract_id=952629)\n",
    "- [Non-discretionary inputs](https://www.nhh.no/Admin/Public/Download.aspx?file=Files%2FFiler%2Finstitutter%2Ffor%2Fseminars%2Faccounting_management_science%2F2007_spring%2F300507-1.pdf)\n",
    "- [DEA conference proceedings](http://deazone.com/en/wp-content/uploads/2014/05/DEA2013-Proceedings.pdf)\n",
    "- [DEAP programme notes](http://www.owlnet.rice.edu/~econ380/DEAP.PDF)\n",
    "- [DEA on panel data](http://competitionpolicy.ac.uk/documents/107435/107587/1.114399!ccp09-6.pdf)\n",
    "- [Data preparation for DEA](www.clarku.edu/~jsarkis/sarkischapter.doc)\n",
    "- [Methods for increasing discrimination](http://www.uff.br/decisao/annals_angulomeza-lins.pdf)\n",
    "- [When and how to use PCA-DEA](http://pluto.huji.ac.il/~msnic/PCA&DEA.pdf)"
   ]
  },
  {
   "cell_type": "markdown",
   "metadata": {},
   "source": [
    "# The linear programming problem\n",
    "\n",
    "pyDEA currently solves an input-oriented DEA model using PuLP's linear programme solver."
   ]
  },
  {
   "cell_type": "code",
   "execution_count": 1,
   "metadata": {
    "jupyter": {
     "outputs_hidden": false
    }
   },
   "outputs": [
    {
     "data": {
      "text/latex": [
       "An input-oriented DEA model with constant returns to scale is solved with the following LP model:\n",
       "\n",
       "\\begin{equation}\n",
       "\\max e_{j_0} = \\sum_r u_r y_{rj_0} - \\mu_0\n",
       "\\end{equation}\n",
       "\n",
       "subject to\n",
       "\n",
       "\\begin{aligned}\n",
       "\\sum_i v_i x_{ij_0} &= 1 \\\\\n",
       "\\sum_r u_r y_{rj} - \\sum_i v_i x_{ij} - \\mu_0 &\\leq 0, \\quad j \\in 1, 2, \\ldots, n \\\\\n",
       "u_r, v_i &\\geq \\varepsilon\n",
       "\\end{aligned}\n",
       "\n",
       "where\n",
       "\n",
       "\\begin{aligned}\n",
       "x_{ij} &= \\mbox{quantity of input } i \\mbox{ for unit } j \\\\\n",
       "v_{i} &= \\mbox{weight attached to input } i \\\\\n",
       "y_{ij} &= \\mbox{quantity of output } r \\mbox{ for unit } j \\\\\n",
       "u_{i} &= \\mbox{weight attached to output } r \\\\\n",
       "e_{j_0} &= \\mbox{efficiency score} \\\\\n",
       "\\mu_0 &= \\mbox{VRS parameter} \\\\\n",
       "j_0 &= \\mbox{DMU under analysis} \\\\\n",
       "\\end{aligned}\n",
       "\n",
       "Input and output quantities are fixed by the data, weights are the decision variables and the efficiency score is the output.\n"
      ],
      "text/plain": [
       "<IPython.core.display.Latex object>"
      ]
     },
     "metadata": {},
     "output_type": "display_data"
    }
   ],
   "source": [
    "%%latex\n",
    "An input-oriented DEA model with constant returns to scale is solved with the following LP model:\n",
    "\n",
    "\\begin{equation}\n",
    "\\max e_{j_0} = \\sum_r u_r y_{rj_0} - \\mu_0\n",
    "\\end{equation}\n",
    "\n",
    "subject to\n",
    "\n",
    "\\begin{aligned}\n",
    "\\sum_i v_i x_{ij_0} &= 1 \\\\\n",
    "\\sum_r u_r y_{rj} - \\sum_i v_i x_{ij} - \\mu_0 &\\leq 0, \\quad j \\in 1, 2, \\ldots, n \\\\\n",
    "u_r, v_i &\\geq \\varepsilon\n",
    "\\end{aligned}\n",
    "\n",
    "where\n",
    "\n",
    "\\begin{aligned}\n",
    "x_{ij} &= \\mbox{quantity of input } i \\mbox{ for unit } j \\\\\n",
    "v_{i} &= \\mbox{weight attached to input } i \\\\\n",
    "y_{ij} &= \\mbox{quantity of output } r \\mbox{ for unit } j \\\\\n",
    "u_{i} &= \\mbox{weight attached to output } r \\\\\n",
    "e_{j_0} &= \\mbox{efficiency score} \\\\\n",
    "\\mu_0 &= \\mbox{VRS parameter} \\\\\n",
    "j_0 &= \\mbox{DMU under analysis} \\\\\n",
    "\\end{aligned}\n",
    "\n",
    "Input and output quantities are fixed by the data, weights are the decision variables and the efficiency score is the output."
   ]
  },
  {
   "cell_type": "code",
   "execution_count": null,
   "metadata": {},
   "outputs": [],
   "source": []
  }
 ],
 "metadata": {
  "kernelspec": {
   "display_name": "Python 3",
   "language": "python",
   "name": "python3"
  },
  "language_info": {
   "codemirror_mode": {
    "name": "ipython",
    "version": 3
   },
   "file_extension": ".py",
   "mimetype": "text/x-python",
   "name": "python",
   "nbconvert_exporter": "python",
   "pygments_lexer": "ipython3",
   "version": "3.7.9"
  }
 },
 "nbformat": 4,
 "nbformat_minor": 4
}
